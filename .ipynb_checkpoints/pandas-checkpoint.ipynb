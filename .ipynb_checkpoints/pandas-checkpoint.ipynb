{
 "cells": [
  {
   "cell_type": "markdown",
   "id": "74dbfc74",
   "metadata": {},
   "source": [
    "\n",
    "# Pandas\n"
   ]
  },
  {
   "cell_type": "code",
   "execution_count": 8,
   "id": "435a8ec0",
   "metadata": {},
   "outputs": [],
   "source": [
    "import pandas as pd"
   ]
  },
  {
   "cell_type": "markdown",
   "id": "af0cbd32",
   "metadata": {},
   "source": [
    "# series\n",
    "like a column in a table/dataframe"
   ]
  },
  {
   "cell_type": "code",
   "execution_count": 9,
   "id": "adf39816",
   "metadata": {},
   "outputs": [
    {
     "name": "stdout",
     "output_type": "stream",
     "text": [
      "1       Monday\n",
      "2      Tuesday\n",
      "3    Wednesday\n",
      "4     Thrusday\n",
      "5       Friday\n",
      "6     Saturday\n",
      "7       Sunday\n",
      "dtype: object\n"
     ]
    },
    {
     "data": {
      "text/plain": [
       "pandas.core.series.Series"
      ]
     },
     "execution_count": 9,
     "metadata": {},
     "output_type": "execute_result"
    }
   ],
   "source": [
    "#creating a series\n",
    "days=['Monday','Tuesday','Wednesday','Thrusday','Friday','Saturday','Sunday']\n",
    "my_series=pd.Series(days,index=range(1,8))\n",
    "#my_series=pd.Series(days,index=[10,11,12,13,14,15])\n",
    "print(my_series)\n",
    "type(my_series)"
   ]
  },
  {
   "cell_type": "code",
   "execution_count": 10,
   "id": "77923e3d",
   "metadata": {},
   "outputs": [
    {
     "data": {
      "text/plain": [
       "1       monday\n",
       "2      Tuesday\n",
       "3    wednesday\n",
       "4     thrusday\n",
       "5       friday\n",
       "6     saturday\n",
       "7       sunday\n",
       "dtype: object"
      ]
     },
     "execution_count": 10,
     "metadata": {},
     "output_type": "execute_result"
    }
   ],
   "source": [
    "#creating series using dictionary\n",
    "dict={'1':'monday','2':'Tuesday','3':'wednesday','4':'thrusday','5':'friday','6':'saturday','7':'sunday'}\n",
    "ser=pd.Series(dict)\n",
    "ser\n"
   ]
  },
  {
   "cell_type": "code",
   "execution_count": 11,
   "id": "239c603d",
   "metadata": {},
   "outputs": [
    {
     "data": {
      "text/plain": [
       "1     [monday, a]\n",
       "2    [Tuesday, b]\n",
       "3       wednesday\n",
       "4        thrusday\n",
       "5          friday\n",
       "6        saturday\n",
       "7          sunday\n",
       "dtype: object"
      ]
     },
     "execution_count": 11,
     "metadata": {},
     "output_type": "execute_result"
    }
   ],
   "source": [
    "dict={'1':['monday','a'],'2':['Tuesday','b'],'3':'wednesday','4':'thrusday','5':'friday','6':'saturday','7':'sunday'}\n",
    "ser=pd.Series(dict)\n",
    "ser"
   ]
  },
  {
   "cell_type": "markdown",
   "id": "b115e10c",
   "metadata": {},
   "source": [
    "# Dataframes\n",
    "dataframes is most commonly used object in  pandas. it is a table like datastructure containing rows and columns simlilar to excel spreadsheet"
   ]
  },
  {
   "cell_type": "code",
   "execution_count": 12,
   "id": "0b864e42",
   "metadata": {},
   "outputs": [
    {
     "data": {
      "text/html": [
       "<div>\n",
       "<style scoped>\n",
       "    .dataframe tbody tr th:only-of-type {\n",
       "        vertical-align: middle;\n",
       "    }\n",
       "\n",
       "    .dataframe tbody tr th {\n",
       "        vertical-align: top;\n",
       "    }\n",
       "\n",
       "    .dataframe thead th {\n",
       "        text-align: right;\n",
       "    }\n",
       "</style>\n",
       "<table border=\"1\" class=\"dataframe\">\n",
       "  <thead>\n",
       "    <tr style=\"text-align: right;\">\n",
       "      <th></th>\n",
       "      <th>days</th>\n",
       "      <th>max temperature</th>\n",
       "      <th>min temperature</th>\n",
       "      <th>windspeed</th>\n",
       "      <th>Events</th>\n",
       "    </tr>\n",
       "  </thead>\n",
       "  <tbody>\n",
       "    <tr>\n",
       "      <th>1</th>\n",
       "      <td>Monday</td>\n",
       "      <td>18</td>\n",
       "      <td>10</td>\n",
       "      <td>10</td>\n",
       "      <td>Rain</td>\n",
       "    </tr>\n",
       "    <tr>\n",
       "      <th>2</th>\n",
       "      <td>Tuesday</td>\n",
       "      <td>19</td>\n",
       "      <td>13</td>\n",
       "      <td>14</td>\n",
       "      <td>thunderstorm</td>\n",
       "    </tr>\n",
       "    <tr>\n",
       "      <th>3</th>\n",
       "      <td>Wednesday</td>\n",
       "      <td>20</td>\n",
       "      <td>12</td>\n",
       "      <td>8</td>\n",
       "      <td>rain</td>\n",
       "    </tr>\n",
       "    <tr>\n",
       "      <th>4</th>\n",
       "      <td>Thrusday</td>\n",
       "      <td>21</td>\n",
       "      <td>8</td>\n",
       "      <td>14</td>\n",
       "      <td>sunny</td>\n",
       "    </tr>\n",
       "    <tr>\n",
       "      <th>5</th>\n",
       "      <td>Friday</td>\n",
       "      <td>16</td>\n",
       "      <td>7</td>\n",
       "      <td>18</td>\n",
       "      <td>fog</td>\n",
       "    </tr>\n",
       "    <tr>\n",
       "      <th>6</th>\n",
       "      <td>Saturday</td>\n",
       "      <td>21</td>\n",
       "      <td>11</td>\n",
       "      <td>11</td>\n",
       "      <td>fog</td>\n",
       "    </tr>\n",
       "    <tr>\n",
       "      <th>7</th>\n",
       "      <td>Sunday</td>\n",
       "      <td>22</td>\n",
       "      <td>21</td>\n",
       "      <td>14</td>\n",
       "      <td>rain</td>\n",
       "    </tr>\n",
       "  </tbody>\n",
       "</table>\n",
       "</div>"
      ],
      "text/plain": [
       "        days  max temperature  min temperature  windspeed        Events\n",
       "1     Monday               18               10         10          Rain\n",
       "2    Tuesday               19               13         14  thunderstorm\n",
       "3  Wednesday               20               12          8          rain\n",
       "4   Thrusday               21                8         14         sunny\n",
       "5     Friday               16                7         18           fog\n",
       "6   Saturday               21               11         11           fog\n",
       "7     Sunday               22               21         14          rain"
      ]
     },
     "execution_count": 12,
     "metadata": {},
     "output_type": "execute_result"
    }
   ],
   "source": [
    "#creating a dataframe using a dictionary\n",
    "max_temp=[18,19,20,21,16,21,22]\n",
    "min_temp=[10,13,12,8,7,11,21]\n",
    "event=['Rain','thunderstorm','rain','sunny','fog','fog','rain']\n",
    "windspeed=[10,14,8,14,18,11,14]\n",
    "weather={'days':days, 'max temperature':max_temp, 'min temperature':min_temp,'windspeed':windspeed,'Events':event}\n",
    "df=pd.DataFrame(weather,index=range(1,8))\n",
    "df"
   ]
  },
  {
   "cell_type": "markdown",
   "id": "74ead09f",
   "metadata": {},
   "source": [
    "# exporting a dataframe to a csv file"
   ]
  },
  {
   "cell_type": "code",
   "execution_count": 13,
   "id": "ce9caced",
   "metadata": {},
   "outputs": [],
   "source": [
    "df.to_csv('weather data.csv')"
   ]
  },
  {
   "cell_type": "markdown",
   "id": "8c7df3db",
   "metadata": {},
   "source": [
    "# Importing from a csv file"
   ]
  },
  {
   "cell_type": "code",
   "execution_count": 32,
   "id": "2bba512e",
   "metadata": {},
   "outputs": [],
   "source": [
    "new_df=pd.read_csv('weather data.csv')"
   ]
  },
  {
   "cell_type": "code",
   "execution_count": 33,
   "id": "f88e0370",
   "metadata": {},
   "outputs": [
    {
     "data": {
      "text/html": [
       "<div>\n",
       "<style scoped>\n",
       "    .dataframe tbody tr th:only-of-type {\n",
       "        vertical-align: middle;\n",
       "    }\n",
       "\n",
       "    .dataframe tbody tr th {\n",
       "        vertical-align: top;\n",
       "    }\n",
       "\n",
       "    .dataframe thead th {\n",
       "        text-align: right;\n",
       "    }\n",
       "</style>\n",
       "<table border=\"1\" class=\"dataframe\">\n",
       "  <thead>\n",
       "    <tr style=\"text-align: right;\">\n",
       "      <th></th>\n",
       "      <th>Unnamed: 0</th>\n",
       "      <th>days</th>\n",
       "      <th>max temperature</th>\n",
       "      <th>min temperature</th>\n",
       "      <th>windspeed</th>\n",
       "      <th>Events</th>\n",
       "      <th>humidity</th>\n",
       "    </tr>\n",
       "  </thead>\n",
       "  <tbody>\n",
       "    <tr>\n",
       "      <th>0</th>\n",
       "      <td>1</td>\n",
       "      <td>Monday</td>\n",
       "      <td>18</td>\n",
       "      <td>10</td>\n",
       "      <td>10</td>\n",
       "      <td>Rain</td>\n",
       "      <td>34</td>\n",
       "    </tr>\n",
       "    <tr>\n",
       "      <th>1</th>\n",
       "      <td>2</td>\n",
       "      <td>Tuesday</td>\n",
       "      <td>19</td>\n",
       "      <td>13</td>\n",
       "      <td>14</td>\n",
       "      <td>thunderstorm</td>\n",
       "      <td>6</td>\n",
       "    </tr>\n",
       "    <tr>\n",
       "      <th>2</th>\n",
       "      <td>3</td>\n",
       "      <td>Wednesday</td>\n",
       "      <td>20</td>\n",
       "      <td>12</td>\n",
       "      <td>8</td>\n",
       "      <td>rain</td>\n",
       "      <td>74</td>\n",
       "    </tr>\n",
       "    <tr>\n",
       "      <th>3</th>\n",
       "      <td>4</td>\n",
       "      <td>Thrusday</td>\n",
       "      <td>21</td>\n",
       "      <td>8</td>\n",
       "      <td>14</td>\n",
       "      <td>sunny</td>\n",
       "      <td>45</td>\n",
       "    </tr>\n",
       "    <tr>\n",
       "      <th>4</th>\n",
       "      <td>5</td>\n",
       "      <td>Friday</td>\n",
       "      <td>16</td>\n",
       "      <td>7</td>\n",
       "      <td>18</td>\n",
       "      <td>fog</td>\n",
       "      <td>67</td>\n",
       "    </tr>\n",
       "    <tr>\n",
       "      <th>5</th>\n",
       "      <td>6</td>\n",
       "      <td>Saturday</td>\n",
       "      <td>21</td>\n",
       "      <td>11</td>\n",
       "      <td>11</td>\n",
       "      <td>fog</td>\n",
       "      <td>56</td>\n",
       "    </tr>\n",
       "    <tr>\n",
       "      <th>6</th>\n",
       "      <td>7</td>\n",
       "      <td>Sunday</td>\n",
       "      <td>22</td>\n",
       "      <td>21</td>\n",
       "      <td>14</td>\n",
       "      <td>rain</td>\n",
       "      <td>43</td>\n",
       "    </tr>\n",
       "  </tbody>\n",
       "</table>\n",
       "</div>"
      ],
      "text/plain": [
       "   Unnamed: 0       days  max temperature  min temperature  windspeed  \\\n",
       "0           1     Monday               18               10         10   \n",
       "1           2    Tuesday               19               13         14   \n",
       "2           3  Wednesday               20               12          8   \n",
       "3           4   Thrusday               21                8         14   \n",
       "4           5     Friday               16                7         18   \n",
       "5           6   Saturday               21               11         11   \n",
       "6           7     Sunday               22               21         14   \n",
       "\n",
       "         Events  humidity  \n",
       "0          Rain        34  \n",
       "1  thunderstorm         6  \n",
       "2          rain        74  \n",
       "3         sunny        45  \n",
       "4           fog        67  \n",
       "5           fog        56  \n",
       "6          rain        43  "
      ]
     },
     "execution_count": 33,
     "metadata": {},
     "output_type": "execute_result"
    }
   ],
   "source": [
    "new_df"
   ]
  },
  {
   "cell_type": "code",
   "execution_count": 31,
   "id": "ecb73af0",
   "metadata": {},
   "outputs": [
    {
     "name": "stdout",
     "output_type": "stream",
     "text": [
      "no of rows 7 no of column 6\n"
     ]
    }
   ],
   "source": [
    "a,b=new_df.shape\n",
    "print('no of rows',a,'no of column',b)"
   ]
  },
  {
   "cell_type": "code",
   "execution_count": 17,
   "id": "1d58d848",
   "metadata": {},
   "outputs": [
    {
     "data": {
      "text/plain": [
       "Index(['Unnamed: 0', 'days', 'max temperature', 'min temperature', 'windspeed',\n",
       "       'Events'],\n",
       "      dtype='object')"
      ]
     },
     "execution_count": 17,
     "metadata": {},
     "output_type": "execute_result"
    }
   ],
   "source": [
    "new_df.columns"
   ]
  },
  {
   "cell_type": "markdown",
   "id": "2e796bae",
   "metadata": {},
   "source": []
  },
  {
   "cell_type": "code",
   "execution_count": 24,
   "id": "d970ee3f",
   "metadata": {},
   "outputs": [],
   "source": [
    "#creating a dataframe using dictionary\n",
    "english=[20,30,40,56,78]\n",
    "maths=[20,40,56,34,65]\n",
    "science=[89,56,7,87,45]\n",
    "name=['aman','ayush','tushar','shubham','sambhav']\n",
    "marks={'name':name, 'english':english,'maths':maths,'science':science}\n",
    "df1=pd.DataFrame(marks,index=range(1,6))\n"
   ]
  },
  {
   "cell_type": "code",
   "execution_count": 25,
   "id": "a042e87e",
   "metadata": {},
   "outputs": [
    {
     "data": {
      "text/html": [
       "<div>\n",
       "<style scoped>\n",
       "    .dataframe tbody tr th:only-of-type {\n",
       "        vertical-align: middle;\n",
       "    }\n",
       "\n",
       "    .dataframe tbody tr th {\n",
       "        vertical-align: top;\n",
       "    }\n",
       "\n",
       "    .dataframe thead th {\n",
       "        text-align: right;\n",
       "    }\n",
       "</style>\n",
       "<table border=\"1\" class=\"dataframe\">\n",
       "  <thead>\n",
       "    <tr style=\"text-align: right;\">\n",
       "      <th></th>\n",
       "      <th>name</th>\n",
       "      <th>english</th>\n",
       "      <th>maths</th>\n",
       "      <th>science</th>\n",
       "    </tr>\n",
       "  </thead>\n",
       "  <tbody>\n",
       "    <tr>\n",
       "      <th>1</th>\n",
       "      <td>aman</td>\n",
       "      <td>20</td>\n",
       "      <td>20</td>\n",
       "      <td>89</td>\n",
       "    </tr>\n",
       "    <tr>\n",
       "      <th>2</th>\n",
       "      <td>ayush</td>\n",
       "      <td>30</td>\n",
       "      <td>40</td>\n",
       "      <td>56</td>\n",
       "    </tr>\n",
       "    <tr>\n",
       "      <th>3</th>\n",
       "      <td>tushar</td>\n",
       "      <td>40</td>\n",
       "      <td>56</td>\n",
       "      <td>7</td>\n",
       "    </tr>\n",
       "    <tr>\n",
       "      <th>4</th>\n",
       "      <td>shubham</td>\n",
       "      <td>56</td>\n",
       "      <td>34</td>\n",
       "      <td>87</td>\n",
       "    </tr>\n",
       "    <tr>\n",
       "      <th>5</th>\n",
       "      <td>sambhav</td>\n",
       "      <td>78</td>\n",
       "      <td>65</td>\n",
       "      <td>45</td>\n",
       "    </tr>\n",
       "  </tbody>\n",
       "</table>\n",
       "</div>"
      ],
      "text/plain": [
       "      name  english  maths  science\n",
       "1     aman       20     20       89\n",
       "2    ayush       30     40       56\n",
       "3   tushar       40     56        7\n",
       "4  shubham       56     34       87\n",
       "5  sambhav       78     65       45"
      ]
     },
     "execution_count": 25,
     "metadata": {},
     "output_type": "execute_result"
    }
   ],
   "source": [
    "df1"
   ]
  },
  {
   "cell_type": "code",
   "execution_count": 26,
   "id": "6e14fee5",
   "metadata": {},
   "outputs": [],
   "source": [
    "df1.to_csv('marks.csv')"
   ]
  },
  {
   "cell_type": "code",
   "execution_count": 29,
   "id": "dd3f6264",
   "metadata": {},
   "outputs": [
    {
     "data": {
      "text/html": [
       "<div>\n",
       "<style scoped>\n",
       "    .dataframe tbody tr th:only-of-type {\n",
       "        vertical-align: middle;\n",
       "    }\n",
       "\n",
       "    .dataframe tbody tr th {\n",
       "        vertical-align: top;\n",
       "    }\n",
       "\n",
       "    .dataframe thead th {\n",
       "        text-align: right;\n",
       "    }\n",
       "</style>\n",
       "<table border=\"1\" class=\"dataframe\">\n",
       "  <thead>\n",
       "    <tr style=\"text-align: right;\">\n",
       "      <th></th>\n",
       "      <th>index</th>\n",
       "      <th>name</th>\n",
       "      <th>english</th>\n",
       "      <th>maths</th>\n",
       "      <th>science</th>\n",
       "      <th>hindi</th>\n",
       "    </tr>\n",
       "  </thead>\n",
       "  <tbody>\n",
       "    <tr>\n",
       "      <th>0</th>\n",
       "      <td>1</td>\n",
       "      <td>aman</td>\n",
       "      <td>20</td>\n",
       "      <td>20</td>\n",
       "      <td>89</td>\n",
       "      <td>34</td>\n",
       "    </tr>\n",
       "    <tr>\n",
       "      <th>1</th>\n",
       "      <td>2</td>\n",
       "      <td>ayush</td>\n",
       "      <td>30</td>\n",
       "      <td>40</td>\n",
       "      <td>56</td>\n",
       "      <td>65</td>\n",
       "    </tr>\n",
       "    <tr>\n",
       "      <th>2</th>\n",
       "      <td>3</td>\n",
       "      <td>tushar</td>\n",
       "      <td>40</td>\n",
       "      <td>56</td>\n",
       "      <td>7</td>\n",
       "      <td>78</td>\n",
       "    </tr>\n",
       "    <tr>\n",
       "      <th>3</th>\n",
       "      <td>4</td>\n",
       "      <td>shubham</td>\n",
       "      <td>56</td>\n",
       "      <td>34</td>\n",
       "      <td>87</td>\n",
       "      <td>67</td>\n",
       "    </tr>\n",
       "    <tr>\n",
       "      <th>4</th>\n",
       "      <td>5</td>\n",
       "      <td>sambhav</td>\n",
       "      <td>78</td>\n",
       "      <td>65</td>\n",
       "      <td>45</td>\n",
       "      <td>90</td>\n",
       "    </tr>\n",
       "  </tbody>\n",
       "</table>\n",
       "</div>"
      ],
      "text/plain": [
       "   index     name  english  maths  science  hindi\n",
       "0      1     aman       20     20       89     34\n",
       "1      2    ayush       30     40       56     65\n",
       "2      3   tushar       40     56        7     78\n",
       "3      4  shubham       56     34       87     67\n",
       "4      5  sambhav       78     65       45     90"
      ]
     },
     "execution_count": 29,
     "metadata": {},
     "output_type": "execute_result"
    }
   ],
   "source": [
    "new_df2=pd.read_csv('marks.csv')\n",
    "new_df2"
   ]
  },
  {
   "cell_type": "code",
   "execution_count": 36,
   "id": "b2bbd730",
   "metadata": {},
   "outputs": [
    {
     "data": {
      "text/plain": [
       "78"
      ]
     },
     "execution_count": 36,
     "metadata": {},
     "output_type": "execute_result"
    }
   ],
   "source": [
    "new_df2['english'].max()"
   ]
  },
  {
   "cell_type": "code",
   "execution_count": null,
   "id": "d507e1b2",
   "metadata": {},
   "outputs": [],
   "source": []
  }
 ],
 "metadata": {
  "kernelspec": {
   "display_name": "Python 3 (ipykernel)",
   "language": "python",
   "name": "python3"
  },
  "language_info": {
   "codemirror_mode": {
    "name": "ipython",
    "version": 3
   },
   "file_extension": ".py",
   "mimetype": "text/x-python",
   "name": "python",
   "nbconvert_exporter": "python",
   "pygments_lexer": "ipython3",
   "version": "3.9.13"
  }
 },
 "nbformat": 4,
 "nbformat_minor": 5
}
