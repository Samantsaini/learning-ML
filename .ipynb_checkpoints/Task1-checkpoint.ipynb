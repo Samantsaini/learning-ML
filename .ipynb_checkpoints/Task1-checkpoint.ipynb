{
 "cells": [
  {
   "cell_type": "code",
   "execution_count": 4,
   "id": "02c09b41",
   "metadata": {},
   "outputs": [
    {
     "name": "stdout",
     "output_type": "stream",
     "text": [
      "enter the element4\n",
      "the element is present in the array at 3\n"
     ]
    }
   ],
   "source": [
    "#search an element in an array\n",
    "a=[1,2,3,4,5,6,7,8,9]\n",
    "n=int(input(\"enter the element\"))\n",
    "for i in range(len(a)):\n",
    "    if(a[i]==n):\n",
    "        print(\"the element is present in the array at\", i)\n",
    "        break\n",
    "    "
   ]
  },
  {
   "cell_type": "code",
   "execution_count": 9,
   "id": "6f9d150d",
   "metadata": {},
   "outputs": [
    {
     "name": "stdout",
     "output_type": "stream",
     "text": [
      "the largest number in the array is  56\n"
     ]
    }
   ],
   "source": [
    "#find largest element in the array.\n",
    "a2=[2,4,3,5,6,23,56,7,35]\n",
    "max=a[0]\n",
    "for i in range(len(a2)):\n",
    "    if a2[i]>max:\n",
    "        max=a2[i]\n",
    "print(\"the largest number in the array is \",max)\n",
    "    "
   ]
  },
  {
   "cell_type": "code",
   "execution_count": 17,
   "id": "28821413",
   "metadata": {},
   "outputs": [
    {
     "name": "stdout",
     "output_type": "stream",
     "text": [
      "the smallest number in the array is  2\n"
     ]
    }
   ],
   "source": [
    "#find the smallest element in the array\n",
    "a3=[5,2,6,8,6,8,3]\n",
    "min=a3[0]\n",
    "for i in range(len(a3)):\n",
    "    if (a3[i]<min):\n",
    "        min=a3[i]\n",
    "print(\"the smallest number in the array is \",min)"
   ]
  },
  {
   "cell_type": "code",
   "execution_count": 21,
   "id": "b72959b9",
   "metadata": {},
   "outputs": [
    {
     "name": "stdout",
     "output_type": "stream",
     "text": [
      "[6, 8, 9, 3, 6, 4, 2]\n"
     ]
    }
   ],
   "source": [
    "#reversing an array\n",
    "a4=[2,4,6,3,9,8,6]\n",
    "b=a4[::-1]\n",
    "print(b)"
   ]
  },
  {
   "cell_type": "code",
   "execution_count": 24,
   "id": "f5cf789c",
   "metadata": {},
   "outputs": [
    {
     "name": "stdout",
     "output_type": "stream",
     "text": [
      "enter the value5\n",
      "[8, 9, 3, 6, 4, 2]\n"
     ]
    }
   ],
   "source": [
    "#rotate an array from kth position\n",
    "a4=[2,4,6,3,9,8,6]\n",
    "k=int(input(\"enter the value\"))\n",
    "b=a4[k::-1]\n",
    "print(b)"
   ]
  },
  {
   "cell_type": "code",
   "execution_count": null,
   "id": "dd882673",
   "metadata": {},
   "outputs": [],
   "source": []
  }
 ],
 "metadata": {
  "kernelspec": {
   "display_name": "Python 3 (ipykernel)",
   "language": "python",
   "name": "python3"
  },
  "language_info": {
   "codemirror_mode": {
    "name": "ipython",
    "version": 3
   },
   "file_extension": ".py",
   "mimetype": "text/x-python",
   "name": "python",
   "nbconvert_exporter": "python",
   "pygments_lexer": "ipython3",
   "version": "3.9.13"
  }
 },
 "nbformat": 4,
 "nbformat_minor": 5
}
