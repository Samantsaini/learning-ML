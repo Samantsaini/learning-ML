{
 "cells": [
  {
   "cell_type": "code",
   "execution_count": 1,
   "id": "4feb072c",
   "metadata": {},
   "outputs": [],
   "source": [
    "import numpy as np"
   ]
  },
  {
   "cell_type": "code",
   "execution_count": 2,
   "id": "17278f16",
   "metadata": {},
   "outputs": [],
   "source": [
    "#creating an array\n",
    "arr=np.array((1,2,3,4,5))"
   ]
  },
  {
   "cell_type": "code",
   "execution_count": 3,
   "id": "6106c07e",
   "metadata": {},
   "outputs": [
    {
     "data": {
      "text/plain": [
       "array([1, 2, 3, 4, 5])"
      ]
     },
     "execution_count": 3,
     "metadata": {},
     "output_type": "execute_result"
    }
   ],
   "source": [
    "arr"
   ]
  },
  {
   "cell_type": "code",
   "execution_count": 5,
   "id": "5ec57ced",
   "metadata": {},
   "outputs": [],
   "source": [
    "#datatype of an array\n",
    "arr=np.array([1,2,3,4],dtype=float)"
   ]
  },
  {
   "cell_type": "code",
   "execution_count": 6,
   "id": "d70d6f07",
   "metadata": {},
   "outputs": [
    {
     "data": {
      "text/plain": [
       "array([1., 2., 3., 4.])"
      ]
     },
     "execution_count": 6,
     "metadata": {},
     "output_type": "execute_result"
    }
   ],
   "source": [
    "arr"
   ]
  },
  {
   "cell_type": "code",
   "execution_count": 7,
   "id": "c34ae3f0",
   "metadata": {},
   "outputs": [],
   "source": [
    "#datatype of an array\n",
    "arr=np.array([],dtype='S')"
   ]
  },
  {
   "cell_type": "code",
   "execution_count": 21,
   "id": "24c03458",
   "metadata": {},
   "outputs": [],
   "source": [
    "arr=arr.astype(int)"
   ]
  },
  {
   "cell_type": "code",
   "execution_count": 8,
   "id": "507caf91",
   "metadata": {},
   "outputs": [
    {
     "data": {
      "text/plain": [
       "array([], dtype='|S1')"
      ]
     },
     "execution_count": 8,
     "metadata": {},
     "output_type": "execute_result"
    }
   ],
   "source": [
    "arr"
   ]
  },
  {
   "cell_type": "code",
   "execution_count": 13,
   "id": "118a8fb8",
   "metadata": {},
   "outputs": [],
   "source": [
    "#print the element starting from 10 to 40 and skiping 2 elements\n",
    "arr=np.arange(10,40,2)"
   ]
  },
  {
   "cell_type": "code",
   "execution_count": 14,
   "id": "875e95c5",
   "metadata": {},
   "outputs": [
    {
     "data": {
      "text/plain": [
       "array([10, 12, 14, 16, 18, 20, 22, 24, 26, 28, 30, 32, 34, 36, 38])"
      ]
     },
     "execution_count": 14,
     "metadata": {},
     "output_type": "execute_result"
    }
   ],
   "source": [
    "arr"
   ]
  },
  {
   "cell_type": "code",
   "execution_count": 16,
   "id": "aa9a07c0",
   "metadata": {},
   "outputs": [
    {
     "data": {
      "text/plain": [
       "array([10, 12, 14, 16, 18, 40, 20, 22, 24, 26, 28, 30, 32, 34, 36, 38])"
      ]
     },
     "execution_count": 16,
     "metadata": {},
     "output_type": "execute_result"
    }
   ],
   "source": [
    "#to insert the element in the array\n",
    "np.insert(arr,5,int(40))"
   ]
  },
  {
   "cell_type": "code",
   "execution_count": 17,
   "id": "7bcd77e7",
   "metadata": {},
   "outputs": [
    {
     "data": {
      "text/plain": [
       "array([10, 12, 14, 16, 18, 22, 24, 26, 28, 30, 32, 34, 36, 38])"
      ]
     },
     "execution_count": 17,
     "metadata": {},
     "output_type": "execute_result"
    }
   ],
   "source": [
    "#to delete the element in the array\n",
    "np.delete(arr,5)"
   ]
  },
  {
   "cell_type": "code",
   "execution_count": 18,
   "id": "0e5ac97a",
   "metadata": {},
   "outputs": [],
   "source": [
    "#insert element at the given index\n",
    "arr=np.insert(arr,0,100)"
   ]
  },
  {
   "cell_type": "code",
   "execution_count": 19,
   "id": "caf567f8",
   "metadata": {},
   "outputs": [
    {
     "data": {
      "text/plain": [
       "array([100,  10,  12,  14,  16,  18,  20,  22,  24,  26,  28,  30,  32,\n",
       "        34,  36,  38])"
      ]
     },
     "execution_count": 19,
     "metadata": {},
     "output_type": "execute_result"
    }
   ],
   "source": [
    "arr"
   ]
  },
  {
   "cell_type": "code",
   "execution_count": 20,
   "id": "1da7f5ca",
   "metadata": {},
   "outputs": [
    {
     "data": {
      "text/plain": [
       "array([100,  10,  12,  14,  16,  18,  20,  22,  24,  26,  28,  30,  32,\n",
       "        34,  36,  38,  50])"
      ]
     },
     "execution_count": 20,
     "metadata": {},
     "output_type": "execute_result"
    }
   ],
   "source": [
    "#add the element at the last\n",
    "arr=np.append(arr,50)\n",
    "arr"
   ]
  },
  {
   "cell_type": "code",
   "execution_count": 22,
   "id": "7be41597",
   "metadata": {},
   "outputs": [],
   "source": [
    "#matrices"
   ]
  },
  {
   "cell_type": "code",
   "execution_count": 23,
   "id": "94d79d7b",
   "metadata": {},
   "outputs": [],
   "source": [
    "mat=np.array([[1,2,3,4],[5,6,7,8,],[9,10,11,12]])"
   ]
  },
  {
   "cell_type": "code",
   "execution_count": 24,
   "id": "27808f5b",
   "metadata": {},
   "outputs": [
    {
     "name": "stdout",
     "output_type": "stream",
     "text": [
      "[[ 1  2  3  4]\n",
      " [ 5  6  7  8]\n",
      " [ 9 10 11 12]]\n"
     ]
    }
   ],
   "source": [
    "print(mat)"
   ]
  },
  {
   "cell_type": "code",
   "execution_count": 37,
   "id": "b0fede98",
   "metadata": {},
   "outputs": [
    {
     "data": {
      "text/plain": [
       "6"
      ]
     },
     "execution_count": 37,
     "metadata": {},
     "output_type": "execute_result"
    }
   ],
   "source": [
    "#to get the elements of a matrix\n",
    "mat[1,1]"
   ]
  },
  {
   "cell_type": "code",
   "execution_count": 33,
   "id": "d274e482",
   "metadata": {},
   "outputs": [
    {
     "name": "stdout",
     "output_type": "stream",
     "text": [
      "4.737594127655029\n"
     ]
    }
   ],
   "source": [
    "#speed list\n",
    "a=[i for i in range(10000000)]\n",
    "b=[i for i in range (10000000,20000000)]\n",
    "c=[]\n",
    "import time\n",
    "start=time.time()\n",
    "for i in range(len(a)):\n",
    "    c.append(a[i]+b[i])\n",
    "print(time.time()-start)"
   ]
  },
  {
   "cell_type": "code",
   "execution_count": 35,
   "id": "402c1d7d",
   "metadata": {},
   "outputs": [
    {
     "name": "stdout",
     "output_type": "stream",
     "text": [
      "0.046875953674316406\n"
     ]
    }
   ],
   "source": [
    "arr1=np.arange(10000000)\n",
    "arr2=np.arange(10000000,20000000)\n",
    "import time\n",
    "start=time.time()\n",
    "c=arr1+arr2\n",
    "print(time.time()-start)"
   ]
  },
  {
   "cell_type": "code",
   "execution_count": 29,
   "id": "69d8a3d0",
   "metadata": {},
   "outputs": [
    {
     "data": {
      "text/plain": [
       "28.958563126408595"
      ]
     },
     "execution_count": 29,
     "metadata": {},
     "output_type": "execute_result"
    }
   ],
   "source": [
    "5.4958319664001465/0.18978261947631836\n"
   ]
  },
  {
   "cell_type": "code",
   "execution_count": 38,
   "id": "bc721627",
   "metadata": {},
   "outputs": [
    {
     "name": "stdout",
     "output_type": "stream",
     "text": [
      "2\n",
      "6\n",
      "10\n"
     ]
    }
   ],
   "source": [
    "#to get the elements of a fixed column\n",
    "for i in range(3):\n",
    "    print(mat[i,1])"
   ]
  },
  {
   "cell_type": "code",
   "execution_count": 39,
   "id": "dc8cf191",
   "metadata": {},
   "outputs": [],
   "source": [
    "d3=np.array([[[1,2,3,4],[5,6,7,8,]],[[9,10,11,12],[13,14,15,16]]])"
   ]
  },
  {
   "cell_type": "code",
   "execution_count": 43,
   "id": "053d4db7",
   "metadata": {},
   "outputs": [
    {
     "data": {
      "text/plain": [
       "array([[ 9, 10, 11, 12],\n",
       "       [13, 14, 15, 16]])"
      ]
     },
     "execution_count": 43,
     "metadata": {},
     "output_type": "execute_result"
    }
   ],
   "source": [
    "d3[1]"
   ]
  },
  {
   "cell_type": "code",
   "execution_count": 44,
   "id": "c87a1843",
   "metadata": {},
   "outputs": [
    {
     "data": {
      "text/plain": [
       "array([ 9, 10, 11, 12])"
      ]
     },
     "execution_count": 44,
     "metadata": {},
     "output_type": "execute_result"
    }
   ],
   "source": [
    "d3[1,0]"
   ]
  },
  {
   "cell_type": "code",
   "execution_count": 45,
   "id": "4fc93fa5",
   "metadata": {},
   "outputs": [
    {
     "data": {
      "text/plain": [
       "10"
      ]
     },
     "execution_count": 45,
     "metadata": {},
     "output_type": "execute_result"
    }
   ],
   "source": [
    "d3[1,0,1]"
   ]
  },
  {
   "cell_type": "code",
   "execution_count": 1,
   "id": "8d6d5da9",
   "metadata": {},
   "outputs": [
    {
     "ename": "NameError",
     "evalue": "name 'np' is not defined",
     "output_type": "error",
     "traceback": [
      "\u001b[1;31m---------------------------------------------------------------------------\u001b[0m",
      "\u001b[1;31mNameError\u001b[0m                                 Traceback (most recent call last)",
      "\u001b[1;32m~\\AppData\\Local\\Temp\\ipykernel_8340\\2729640289.py\u001b[0m in \u001b[0;36m<module>\u001b[1;34m\u001b[0m\n\u001b[1;32m----> 1\u001b[1;33m \u001b[0mdn\u001b[0m\u001b[1;33m=\u001b[0m\u001b[0mnp\u001b[0m\u001b[1;33m.\u001b[0m\u001b[0marray\u001b[0m\u001b[1;33m(\u001b[0m\u001b[1;33m[\u001b[0m\u001b[1;36m3\u001b[0m\u001b[1;33m]\u001b[0m\u001b[1;33m,\u001b[0m\u001b[0mndarray\u001b[0m\u001b[1;33m=\u001b[0m\u001b[1;36m5\u001b[0m\u001b[1;33m)\u001b[0m\u001b[1;33m\u001b[0m\u001b[1;33m\u001b[0m\u001b[0m\n\u001b[0m",
      "\u001b[1;31mNameError\u001b[0m: name 'np' is not defined"
     ]
    }
   ],
   "source": [
    "dn=np.array([3],ndarray=5)"
   ]
  },
  {
   "cell_type": "code",
   "execution_count": null,
   "id": "ec5f3496",
   "metadata": {},
   "outputs": [],
   "source": [
    "https://github.com/Samantsaini/learning-ML"
   ]
  },
  {
   "cell_type": "code",
   "execution_count": null,
   "id": "2478ab63",
   "metadata": {},
   "outputs": [],
   "source": [
    "#rotating an array by kth position\n",
    "def rotate(arr,n,k):\n",
    "    k=k%n\n",
    "    for i in range(k):\n",
    "        t=arr[n-1]\n",
    "        for j in range(n-1,0,-1):\n",
    "            arr[j]=arr[j-1]\n",
    "        arr[0]=t\n",
    "    return arr"
   ]
  }
 ],
 "metadata": {
  "kernelspec": {
   "display_name": "Python 3 (ipykernel)",
   "language": "python",
   "name": "python3"
  },
  "language_info": {
   "codemirror_mode": {
    "name": "ipython",
    "version": 3
   },
   "file_extension": ".py",
   "mimetype": "text/x-python",
   "name": "python",
   "nbconvert_exporter": "python",
   "pygments_lexer": "ipython3",
   "version": "3.9.13"
  }
 },
 "nbformat": 4,
 "nbformat_minor": 5
}
