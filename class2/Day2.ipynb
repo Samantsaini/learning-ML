{
 "cells": [
  {
   "cell_type": "code",
   "execution_count": 7,
   "id": "83ee3d7f",
   "metadata": {},
   "outputs": [
    {
     "name": "stdout",
     "output_type": "stream",
     "text": [
      "a is equal to b\n",
      "Machine Learning\n"
     ]
    }
   ],
   "source": [
    "a=40\n",
    "b=40\n",
    "if a<b:\n",
    "    print(\"a is smaller than b\")\n",
    "    print(\"Artificial Intelligence\")\n",
    "elif a==b:\n",
    "    print(\"a is equal to b\")\n",
    "else:\n",
    "    print(\"a is greater than b\")\n",
    "print(\"Machine Learning\")"
   ]
  },
  {
   "cell_type": "code",
   "execution_count": 10,
   "id": "3b80790d",
   "metadata": {},
   "outputs": [
    {
     "name": "stdout",
     "output_type": "stream",
     "text": [
      "we are going to right\n"
     ]
    }
   ],
   "source": [
    "a=200\n",
    "b=300\n",
    "c=300\n",
    "if a<b and b==c:\n",
    "    print(\"we are going to right\")"
   ]
  },
  {
   "cell_type": "code",
   "execution_count": 14,
   "id": "d0bfae65",
   "metadata": {},
   "outputs": [
    {
     "name": "stdout",
     "output_type": "stream",
     "text": [
      "56\n",
      "<class 'str'>\n"
     ]
    }
   ],
   "source": [
    "x=int(input())\n",
    "x\n",
    "print(type(x))"
   ]
  },
  {
   "cell_type": "code",
   "execution_count": 15,
   "id": "f49d5a92",
   "metadata": {},
   "outputs": [],
   "source": [
    "#nested loop\n",
    "a=9\n",
    "if a>10:\n",
    "    print(\"more than 10\")\n",
    "    if (a>100):\n",
    "        print(\"above 100\")\n",
    "    else:\n",
    "        print(\"above 10 but less than 100\")"
   ]
  },
  {
   "cell_type": "code",
   "execution_count": 17,
   "id": "c3269d73",
   "metadata": {},
   "outputs": [
    {
     "name": "stdout",
     "output_type": "stream",
     "text": [
      "4\n",
      "1\n",
      "2\n",
      "a is greatest\n"
     ]
    }
   ],
   "source": [
    "a=int(input())\n",
    "b=int(input())\n",
    "c=int(input())\n",
    "if(a>b and a>c):\n",
    "    print(\"a is greatest\")\n",
    "elif(b>a and b>c):\n",
    "    print(\"b is greatest\")\n",
    "else:\n",
    "    print(\"c is greatest\")\n"
   ]
  },
  {
   "cell_type": "code",
   "execution_count": 18,
   "id": "a594b039",
   "metadata": {},
   "outputs": [
    {
     "name": "stdout",
     "output_type": "stream",
     "text": [
      "10\n",
      "not equal to 10\n"
     ]
    }
   ],
   "source": [
    "# here x is string\n",
    "x=input()\n",
    "if x==10:\n",
    "    print(\"equal to 10\")\n",
    "else:\n",
    "    print(\"not equal to 10\")"
   ]
  },
  {
   "cell_type": "code",
   "execution_count": 19,
   "id": "46b26e07",
   "metadata": {},
   "outputs": [
    {
     "name": "stdout",
     "output_type": "stream",
     "text": [
      "10\n",
      "equal to 10\n"
     ]
    }
   ],
   "source": [
    "x=input()\n",
    "if x=='10':\n",
    "    print(\"equal to 10\")\n",
    "else:\n",
    "    print(\"not equal to 10\")"
   ]
  },
  {
   "cell_type": "code",
   "execution_count": 20,
   "id": "00479075",
   "metadata": {},
   "outputs": [
    {
     "name": "stdout",
     "output_type": "stream",
     "text": [
      "1\n",
      "2\n",
      "3\n",
      "4\n",
      "5\n"
     ]
    }
   ],
   "source": [
    "#loops\n",
    "#while\n",
    "i=1\n",
    "while(i<6):\n",
    "    print(i)\n",
    "    i+=1"
   ]
  },
  {
   "cell_type": "code",
   "execution_count": null,
   "id": "b5d135a0",
   "metadata": {},
   "outputs": [],
   "source": []
  }
 ],
 "metadata": {
  "kernelspec": {
   "display_name": "Python 3 (ipykernel)",
   "language": "python",
   "name": "python3"
  },
  "language_info": {
   "codemirror_mode": {
    "name": "ipython",
    "version": 3
   },
   "file_extension": ".py",
   "mimetype": "text/x-python",
   "name": "python",
   "nbconvert_exporter": "python",
   "pygments_lexer": "ipython3",
   "version": "3.9.13"
  }
 },
 "nbformat": 4,
 "nbformat_minor": 5
}
