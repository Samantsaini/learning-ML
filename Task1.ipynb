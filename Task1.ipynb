{
 "cells": [
  {
   "cell_type": "code",
   "execution_count": 4,
   "id": "02c09b41",
   "metadata": {},
   "outputs": [
    {
     "name": "stdout",
     "output_type": "stream",
     "text": [
      "enter the element4\n",
      "the element is present in the array at 3\n"
     ]
    }
   ],
   "source": [
    "#search an element in an array\n",
    "a=[1,2,3,4,5,6,7,8,9]\n",
    "n=int(input(\"enter the element\"))\n",
    "for i in range(len(a)):\n",
    "    if(a[i]==n):\n",
    "        print(\"the element is present in the array at\", i)\n",
    "        break\n",
    "    "
   ]
  },
  {
   "cell_type": "code",
   "execution_count": 9,
   "id": "6f9d150d",
   "metadata": {},
   "outputs": [
    {
     "name": "stdout",
     "output_type": "stream",
     "text": [
      "the largest number in the array is  56\n"
     ]
    }
   ],
   "source": [
    "#find largest element in the array.\n",
    "a2=[2,4,3,5,6,23,56,7,35]\n",
    "max=a[0]\n",
    "for i in range(len(a2)):\n",
    "    if a2[i]>max:\n",
    "        max=a2[i]\n",
    "print(\"the largest number in the array is \",max)\n",
    "    "
   ]
  },
  {
   "cell_type": "code",
   "execution_count": 9,
   "id": "28821413",
   "metadata": {},
   "outputs": [
    {
     "name": "stdout",
     "output_type": "stream",
     "text": [
      "the smallest number in the array is  2\n"
     ]
    }
   ],
   "source": [
    "#find the smallest element in the array\n",
    "a3=[5,2,6,8,6,8,3]\n",
    "min=a3[0]\n",
    "for i in range((len(a3))):\n",
    "    if (a3[i]<min):\n",
    "        min=a3[i]\n",
    "print(\"the smallest number in the array is \",min)"
   ]
  },
  {
   "cell_type": "code",
   "execution_count": 21,
   "id": "b72959b9",
   "metadata": {},
   "outputs": [
    {
     "name": "stdout",
     "output_type": "stream",
     "text": [
      "[6, 8, 9, 3, 6, 4, 2]\n"
     ]
    }
   ],
   "source": [
    "#reversing an array\n",
    "a4=[2,4,6,3,9,8,6]\n",
    "b=a4[::-1]\n",
    "print(b)"
   ]
  },
  {
   "cell_type": "code",
   "execution_count": 14,
   "id": "f5cf789c",
   "metadata": {},
   "outputs": [
    {
     "name": "stdout",
     "output_type": "stream",
     "text": [
      "enter the value4\n",
      "[9, 3, 6, 4, 2]\n"
     ]
    }
   ],
   "source": [
    "#rotate an array from kth position\n",
    "a5=[2,4,6,3,9,8,6]\n",
    "k=int(input(\"enter the value\"))\n",
    "b2=a5[k::-1]\n",
    "print(b2)"
   ]
  },
  {
   "cell_type": "code",
   "execution_count": 2,
   "id": "dd882673",
   "metadata": {},
   "outputs": [
    {
     "name": "stdout",
     "output_type": "stream",
     "text": [
      "enter the element4\n",
      "the element is present in the array at 3\n"
     ]
    }
   ],
   "source": [
    "import numpy as np\n",
    "arr=np.array((1,2,3,4,5,6))\n",
    "n=int(input(\"enter the element\"))\n",
    "for i in range(len(arr)):\n",
    "    if(arr[i]==n):\n",
    "        print(\"the element is present in the array at\", i)\n",
    "        break\n",
    "    "
   ]
  },
  {
   "cell_type": "code",
   "execution_count": 4,
   "id": "550f68ca",
   "metadata": {},
   "outputs": [
    {
     "name": "stdout",
     "output_type": "stream",
     "text": [
      "the largest number in the array is  56\n"
     ]
    }
   ],
   "source": [
    "import numpy as np\n",
    "arr2=np.array((1,2,3,56,5,6))\n",
    "max=arr[0]\n",
    "for i in range(len(arr2)):\n",
    "    if arr2[i]>max:\n",
    "        max=arr2[i]\n",
    "print(\"the largest number in the array is \",max)\n",
    "    "
   ]
  },
  {
   "cell_type": "code",
   "execution_count": 15,
   "id": "5165c5c7",
   "metadata": {},
   "outputs": [
    {
     "name": "stdout",
     "output_type": "stream",
     "text": [
      "the smallest number in the array is  3\n"
     ]
    }
   ],
   "source": [
    "\n",
    "arr3=np.array((100,26,3,56,5,6))\n",
    "min=arr3[0]\n",
    "for i in range(len(arr3)):\n",
    "    if (arr3[i]<min):\n",
    "        min=arr3[i]\n",
    "print(\"the smallest number in the array is \",min)"
   ]
  },
  {
   "cell_type": "code",
   "execution_count": null,
   "id": "05ff0ccb",
   "metadata": {},
   "outputs": [],
   "source": [
    "#rotating an array by kth position\n",
    "def rotate(arr,n,k):\n",
    "    k=k%n\n",
    "    for i in range(k):\n",
    "        t=arr[n-1]\n",
    "        for j in range(n-1,0,-1):\n",
    "            arr[j]=arr[j-1]\n",
    "        arr[0]=t\n",
    "    return arr"
   ]
  }
 ],
 "metadata": {
  "kernelspec": {
   "display_name": "Python 3 (ipykernel)",
   "language": "python",
   "name": "python3"
  },
  "language_info": {
   "codemirror_mode": {
    "name": "ipython",
    "version": 3
   },
   "file_extension": ".py",
   "mimetype": "text/x-python",
   "name": "python",
   "nbconvert_exporter": "python",
   "pygments_lexer": "ipython3",
   "version": "3.9.13"
  }
 },
 "nbformat": 4,
 "nbformat_minor": 5
}
