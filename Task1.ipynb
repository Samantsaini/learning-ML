{
 "cells": [
  {
   "cell_type": "code",
   "execution_count": 2,
   "id": "334a632e",
   "metadata": {},
   "outputs": [],
   "source": [
    "import numpy as np"
   ]
  },
  {
   "cell_type": "code",
   "execution_count": 5,
   "id": "28821413",
   "metadata": {},
   "outputs": [
    {
     "name": "stdout",
     "output_type": "stream",
     "text": [
      "enter the element4\n",
      "the element is present in the array at 3\n"
     ]
    }
   ],
   "source": [
    "#1 search an element in an array\n",
    "import numpy as np\n",
    "arr=np.array((1,2,3,4,5,6))\n",
    "n=int(input(\"enter the element\"))\n",
    "for i in range(len(arr)):\n",
    "    if(arr[i]==n):\n",
    "        print(\"the element is present in the array at\", i)\n",
    "        break\n",
    "    "
   ]
  },
  {
   "cell_type": "code",
   "execution_count": 6,
   "id": "b72959b9",
   "metadata": {},
   "outputs": [
    {
     "name": "stdout",
     "output_type": "stream",
     "text": [
      "the largest number in the array is  56\n"
     ]
    }
   ],
   "source": [
    "#2 find largest element in the array.\n",
    "import numpy as np\n",
    "arr2=np.array((1,2,3,56,5,6))\n",
    "max=arr[0]\n",
    "for i in range(len(arr2)):\n",
    "    if arr2[i]>max:\n",
    "        max=arr2[i]\n",
    "print(\"the largest number in the array is \",max)\n",
    "    "
   ]
  },
  {
   "cell_type": "code",
   "execution_count": 8,
   "id": "f5cf789c",
   "metadata": {},
   "outputs": [
    {
     "name": "stdout",
     "output_type": "stream",
     "text": [
      "the smallest number in the array is  3\n"
     ]
    }
   ],
   "source": [
    "#3 find smallest element in the array.\n",
    "arr3=np.array((100,26,3,56,5,6))\n",
    "min=arr3[0]\n",
    "for i in range(len(arr3)):\n",
    "    if (arr3[i]<min):\n",
    "        min=arr3[i]\n",
    "print(\"the smallest number in the array is \",min)"
   ]
  },
  {
   "cell_type": "code",
   "execution_count": 7,
   "id": "dd882673",
   "metadata": {},
   "outputs": [
    {
     "name": "stdout",
     "output_type": "stream",
     "text": [
      "[  6   5  56   3  26 100]\n"
     ]
    }
   ],
   "source": [
    "#4 reversing an array\n",
    "a4=np.array((100,26,3,56,5,6))\n",
    "b=a4[::-1]\n",
    "print(b)"
   ]
  },
  {
   "cell_type": "code",
   "execution_count": 14,
   "id": "550f68ca",
   "metadata": {},
   "outputs": [
    {
     "name": "stdout",
     "output_type": "stream",
     "text": [
      "enter the value4\n",
      "12 45 67 78 1 6 8 "
     ]
    }
   ],
   "source": [
    "#5 rotating an array by kth position\n",
    "k=int(input(\"enter the value\"))\n",
    "arr5=np.array((1,6,8,12,45,67,78))\n",
    "for i in range(len(arr5)-k,len(arr5)):\n",
    "    print(arr5[i],end=\" \")\n",
    "for i in range(0,len(arr5)-k):\n",
    "    print(arr5[i],end=\" \")\n"
   ]
  },
  {
   "cell_type": "code",
   "execution_count": null,
   "id": "18174564",
   "metadata": {},
   "outputs": [],
   "source": []
  }
 ],
 "metadata": {
  "kernelspec": {
   "display_name": "Python 3 (ipykernel)",
   "language": "python",
   "name": "python3"
  },
  "language_info": {
   "codemirror_mode": {
    "name": "ipython",
    "version": 3
   },
   "file_extension": ".py",
   "mimetype": "text/x-python",
   "name": "python",
   "nbconvert_exporter": "python",
   "pygments_lexer": "ipython3",
   "version": "3.9.13"
  }
 },
 "nbformat": 4,
 "nbformat_minor": 5
}
