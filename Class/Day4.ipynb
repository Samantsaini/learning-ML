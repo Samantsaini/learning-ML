{
 "cells": [
  {
   "cell_type": "code",
   "execution_count": 1,
   "id": "c6200c26",
   "metadata": {},
   "outputs": [],
   "source": [
    "list=[x for x in range(10)]"
   ]
  },
  {
   "cell_type": "code",
   "execution_count": 2,
   "id": "99df786d",
   "metadata": {},
   "outputs": [
    {
     "data": {
      "text/plain": [
       "[0, 1, 2, 3, 4, 5, 6, 7, 8, 9]"
      ]
     },
     "execution_count": 2,
     "metadata": {},
     "output_type": "execute_result"
    }
   ],
   "source": [
    "list"
   ]
  },
  {
   "cell_type": "code",
   "execution_count": 3,
   "id": "b9390950",
   "metadata": {},
   "outputs": [
    {
     "data": {
      "text/plain": [
       "184"
      ]
     },
     "execution_count": 3,
     "metadata": {},
     "output_type": "execute_result"
    }
   ],
   "source": [
    "import sys\n",
    "sys.getsizeof(list)"
   ]
  },
  {
   "cell_type": "code",
   "execution_count": 4,
   "id": "5c26506e",
   "metadata": {},
   "outputs": [
    {
     "data": {
      "text/plain": [
       "48"
      ]
     },
     "execution_count": 4,
     "metadata": {},
     "output_type": "execute_result"
    }
   ],
   "source": [
    "x=range(10000000)\n",
    "sys.getsizeof(x)"
   ]
  },
  {
   "cell_type": "code",
   "execution_count": 5,
   "id": "c450b9fe",
   "metadata": {},
   "outputs": [
    {
     "name": "stdout",
     "output_type": "stream",
     "text": [
      "I\n",
      "N\n",
      "N\n",
      "O\n",
      "G\n",
      "E\n",
      "E\n",
      "K\n",
      "S\n"
     ]
    }
   ],
   "source": [
    "for x in \"INNOGEEKS\":\n",
    "    print(x)"
   ]
  },
  {
   "cell_type": "code",
   "execution_count": 6,
   "id": "84842530",
   "metadata": {},
   "outputs": [],
   "source": [
    "#string[start:stop:skip]"
   ]
  },
  {
   "cell_type": "code",
   "execution_count": 15,
   "id": "8aa3fdfe",
   "metadata": {},
   "outputs": [],
   "source": [
    "a=\"hello, world\""
   ]
  },
  {
   "cell_type": "code",
   "execution_count": 16,
   "id": "557b4ba4",
   "metadata": {},
   "outputs": [
    {
     "name": "stdout",
     "output_type": "stream",
     "text": [
      "h\n",
      "e\n",
      "l\n",
      "l\n",
      "o\n",
      ",\n",
      " \n",
      "w\n",
      "o\n",
      "r\n",
      "l\n",
      "d\n"
     ]
    }
   ],
   "source": [
    "for x in a:\n",
    "    print(x)"
   ]
  },
  {
   "cell_type": "code",
   "execution_count": 17,
   "id": "25de98f5",
   "metadata": {},
   "outputs": [
    {
     "name": "stdout",
     "output_type": "stream",
     "text": [
      "ello, w\n"
     ]
    }
   ],
   "source": [
    "print(a[1:8])"
   ]
  },
  {
   "cell_type": "code",
   "execution_count": 18,
   "id": "fd6047f1",
   "metadata": {},
   "outputs": [
    {
     "name": "stdout",
     "output_type": "stream",
     "text": [
      "hello, w\n"
     ]
    }
   ],
   "source": [
    "print(a[:8])"
   ]
  },
  {
   "cell_type": "code",
   "execution_count": 19,
   "id": "6f451bd0",
   "metadata": {},
   "outputs": [
    {
     "name": "stdout",
     "output_type": "stream",
     "text": [
      "ello, world\n"
     ]
    }
   ],
   "source": [
    "print(a[1:])"
   ]
  },
  {
   "cell_type": "code",
   "execution_count": 20,
   "id": "5d9d302d",
   "metadata": {},
   "outputs": [
    {
     "name": "stdout",
     "output_type": "stream",
     "text": [
      "el,w\n"
     ]
    }
   ],
   "source": [
    "print(a[1:8:2])"
   ]
  },
  {
   "cell_type": "code",
   "execution_count": 21,
   "id": "eea9a111",
   "metadata": {},
   "outputs": [
    {
     "name": "stdout",
     "output_type": "stream",
     "text": [
      "dlrow ,olleh\n"
     ]
    }
   ],
   "source": [
    "#reverse the string\n",
    "print(a[::-1])"
   ]
  },
  {
   "cell_type": "code",
   "execution_count": 22,
   "id": "314ed408",
   "metadata": {},
   "outputs": [
    {
     "name": "stdout",
     "output_type": "stream",
     "text": [
      "drw,le\n"
     ]
    }
   ],
   "source": [
    "\n",
    "print(a[::-2])"
   ]
  },
  {
   "cell_type": "code",
   "execution_count": 37,
   "id": "efd70322",
   "metadata": {},
   "outputs": [],
   "source": [
    "str=\"hello, i am studying in innogeeks class\""
   ]
  },
  {
   "cell_type": "code",
   "execution_count": 38,
   "id": "8eb33b34",
   "metadata": {},
   "outputs": [
    {
     "name": "stdout",
     "output_type": "stream",
     "text": [
      "True\n"
     ]
    }
   ],
   "source": [
    "#check if am is in the string\n",
    "print(\"am\" in str)"
   ]
  },
  {
   "cell_type": "code",
   "execution_count": 39,
   "id": "58920c50",
   "metadata": {},
   "outputs": [
    {
     "data": {
      "text/plain": [
       "'HELLO, I AM STUDYING IN INNOGEEKS CLASS'"
      ]
     },
     "execution_count": 39,
     "metadata": {},
     "output_type": "execute_result"
    }
   ],
   "source": [
    "str.upper()"
   ]
  },
  {
   "cell_type": "code",
   "execution_count": 40,
   "id": "f72e5b97",
   "metadata": {},
   "outputs": [
    {
     "data": {
      "text/plain": [
       "'hello, i am studying in innogeeks class'"
      ]
     },
     "execution_count": 40,
     "metadata": {},
     "output_type": "execute_result"
    }
   ],
   "source": [
    "str"
   ]
  },
  {
   "cell_type": "code",
   "execution_count": 41,
   "id": "60a7c0e6",
   "metadata": {},
   "outputs": [
    {
     "name": "stdout",
     "output_type": "stream",
     "text": [
      "hello, i am studying in innogeeks class samant 23\n"
     ]
    }
   ],
   "source": [
    "str1= str + \" samant\" + \" 23\" \n",
    "print(str1)"
   ]
  },
  {
   "cell_type": "markdown",
   "id": "bfb17459",
   "metadata": {},
   "source": [
    "# Functions"
   ]
  },
  {
   "cell_type": "code",
   "execution_count": 43,
   "id": "3da65ef0",
   "metadata": {},
   "outputs": [
    {
     "name": "stdout",
     "output_type": "stream",
     "text": [
      "samant\n"
     ]
    }
   ],
   "source": [
    "def inno():\n",
    "    print(\"samant\")\n",
    "inno()"
   ]
  },
  {
   "cell_type": "code",
   "execution_count": 55,
   "id": "d8fac79c",
   "metadata": {},
   "outputs": [
    {
     "name": "stdout",
     "output_type": "stream",
     "text": [
      "hello\n"
     ]
    }
   ],
   "source": [
    "import sam2\n",
    "sam2.function()"
   ]
  },
  {
   "cell_type": "code",
   "execution_count": 51,
   "id": "257fd4ac",
   "metadata": {},
   "outputs": [],
   "source": [
    "ans=\"samant\""
   ]
  },
  {
   "cell_type": "code",
   "execution_count": 56,
   "id": "b8ca3b97",
   "metadata": {},
   "outputs": [
    {
     "data": {
      "text/plain": [
       "str"
      ]
     },
     "execution_count": 56,
     "metadata": {},
     "output_type": "execute_result"
    }
   ],
   "source": [
    "type(ans)\n",
    "#module"
   ]
  },
  {
   "cell_type": "code",
   "execution_count": 61,
   "id": "9ff3bde4",
   "metadata": {},
   "outputs": [],
   "source": [
    "def inno(*size):\n",
    "    print(\"samant\"+size[1]+size[2])"
   ]
  },
  {
   "cell_type": "code",
   "execution_count": 62,
   "id": "b86cfb00",
   "metadata": {},
   "outputs": [
    {
     "name": "stdout",
     "output_type": "stream",
     "text": [
      "samant32\n"
     ]
    }
   ],
   "source": [
    "inno(\"4\",\"3\",\"2\")"
   ]
  },
  {
   "cell_type": "code",
   "execution_count": 69,
   "id": "f80ccbab",
   "metadata": {},
   "outputs": [
    {
     "ename": "AttributeError",
     "evalue": "module 'sam2' has no attribute 'fun'",
     "output_type": "error",
     "traceback": [
      "\u001b[1;31m---------------------------------------------------------------------------\u001b[0m",
      "\u001b[1;31mAttributeError\u001b[0m                            Traceback (most recent call last)",
      "\u001b[1;32m~\\AppData\\Local\\Temp\\ipykernel_9660\\1375392746.py\u001b[0m in \u001b[0;36m<module>\u001b[1;34m\u001b[0m\n\u001b[0;32m      1\u001b[0m \u001b[1;32mimport\u001b[0m \u001b[0msam2\u001b[0m\u001b[1;33m\u001b[0m\u001b[1;33m\u001b[0m\u001b[0m\n\u001b[1;32m----> 2\u001b[1;33m \u001b[0msam2\u001b[0m\u001b[1;33m.\u001b[0m\u001b[0mfun\u001b[0m\u001b[1;33m(\u001b[0m\u001b[1;33m)\u001b[0m\u001b[1;33m\u001b[0m\u001b[1;33m\u001b[0m\u001b[0m\n\u001b[0m",
      "\u001b[1;31mAttributeError\u001b[0m: module 'sam2' has no attribute 'fun'"
     ]
    }
   ],
   "source": [
    "import sam2\n",
    "sam2.fun()"
   ]
  },
  {
   "cell_type": "code",
   "execution_count": null,
   "id": "469e5c78",
   "metadata": {},
   "outputs": [],
   "source": []
  }
 ],
 "metadata": {
  "kernelspec": {
   "display_name": "Python 3 (ipykernel)",
   "language": "python",
   "name": "python3"
  },
  "language_info": {
   "codemirror_mode": {
    "name": "ipython",
    "version": 3
   },
   "file_extension": ".py",
   "mimetype": "text/x-python",
   "name": "python",
   "nbconvert_exporter": "python",
   "pygments_lexer": "ipython3",
   "version": "3.9.13"
  }
 },
 "nbformat": 4,
 "nbformat_minor": 5
}
