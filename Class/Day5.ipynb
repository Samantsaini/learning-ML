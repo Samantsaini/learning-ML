{
 "cells": [
  {
   "cell_type": "code",
   "execution_count": 37,
   "id": "72aa6c09",
   "metadata": {},
   "outputs": [],
   "source": [
    "#fuction to find the prime number\n",
    "def prime(n):\n",
    "    c=0\n",
    "    for i in range(2,n):\n",
    "        if n%i==0:\n",
    "            c=1\n",
    "    if(c==0):\n",
    "        print(f\"{n} is prime\")\n",
    "    else:\n",
    "        print(f\"{n} is not prime\")"
   ]
  },
  {
   "cell_type": "code",
   "execution_count": 38,
   "id": "0f04ada3",
   "metadata": {},
   "outputs": [
    {
     "name": "stdout",
     "output_type": "stream",
     "text": [
      "2 is prime\n"
     ]
    }
   ],
   "source": [
    "prime(2)"
   ]
  },
  {
   "cell_type": "code",
   "execution_count": 39,
   "id": "521e96ff",
   "metadata": {},
   "outputs": [
    {
     "name": "stdout",
     "output_type": "stream",
     "text": [
      "9 is not prime\n"
     ]
    }
   ],
   "source": [
    "prime(9)"
   ]
  },
  {
   "cell_type": "code",
   "execution_count": 40,
   "id": "881e52d8",
   "metadata": {},
   "outputs": [
    {
     "name": "stdout",
     "output_type": "stream",
     "text": [
      "enter the number: 5\n",
      "5 is prime\n"
     ]
    }
   ],
   "source": [
    "number=int(input(\"enter the number: \"))\n",
    "prime(number)"
   ]
  },
  {
   "cell_type": "code",
   "execution_count": 46,
   "id": "bcd4ed01",
   "metadata": {},
   "outputs": [
    {
     "name": "stdout",
     "output_type": "stream",
     "text": [
      "enter the number: 100\n"
     ]
    }
   ],
   "source": [
    "def prime(n):\n",
    "    c=0\n",
    "    s=0\n",
    "    for n in range\n",
    "    for i in range(2,n):\n",
    "        if n%i==0:\n",
    "            c=1\n",
    "            if(c==1):\n",
    "                s=0\n",
    "            else:\n",
    "                print(f\"{n})\n",
    "number=int(input(\"enter the number: \"))\n",
    "prime(number)\n",
    "            \n",
    "        \n",
    "        "
   ]
  },
  {
   "cell_type": "code",
   "execution_count": null,
   "id": "b7fcad3a",
   "metadata": {},
   "outputs": [],
   "source": []
  }
 ],
 "metadata": {
  "kernelspec": {
   "display_name": "Python 3 (ipykernel)",
   "language": "python",
   "name": "python3"
  },
  "language_info": {
   "codemirror_mode": {
    "name": "ipython",
    "version": 3
   },
   "file_extension": ".py",
   "mimetype": "text/x-python",
   "name": "python",
   "nbconvert_exporter": "python",
   "pygments_lexer": "ipython3",
   "version": "3.9.13"
  }
 },
 "nbformat": 4,
 "nbformat_minor": 5
}
